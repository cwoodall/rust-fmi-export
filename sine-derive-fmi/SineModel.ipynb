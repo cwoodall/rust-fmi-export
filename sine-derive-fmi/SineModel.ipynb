{
 "cells": [
  {
   "cell_type": "markdown",
   "id": "d21598de",
   "metadata": {},
   "source": [
    "How is it going?"
   ]
  },
  {
   "cell_type": "code",
   "execution_count": null,
   "id": "1f2840b1",
   "metadata": {},
   "outputs": [],
   "source": [
    "import fmpy\n",
    "from fmpy import *\n",
    "\n",
    "\n",
    "filename = 'SineModel.fmu'\n",
    "\n",
    "start_values = {\n",
    "    # variable      start   unit      description\n",
    "    'frequency':       (1, 'Hz'),   # Frequency in Hz\n",
    "}\n",
    "\n",
    "output = [\n",
    "    'output',  # output\n",
    "]\n",
    "\n",
    "result = simulate_fmu(filename, start_values=start_values, output=output, stop_time=1.0)\n",
    "\n",
    "plot_result(result)"
   ]
  }
 ],
 "metadata": {},
 "nbformat": 4,
 "nbformat_minor": 5
}
