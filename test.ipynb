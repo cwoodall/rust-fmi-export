{
 "cells": [
  {
   "attachments": {},
   "cell_type": "markdown",
   "id": "5845f929",
   "metadata": {},
   "source": [
    "Model Rectifier"
   ]
  },
  {
   "cell_type": "code",
   "execution_count": 2,
   "id": "20e04fa5",
   "metadata": {},
   "outputs": [
    {
     "name": "stdout",
     "output_type": "stream",
     "text": [
      "[OK] fmi2Instantiate: instanceName = Rectifier\n"
     ]
    },
    {
     "ename": "FMICallException",
     "evalue": "fmi2SetReal failed with status 3 (error).",
     "output_type": "error",
     "traceback": [
      "\u001b[0;31m---------------------------------------------------------------------------\u001b[0m",
      "\u001b[0;31mFMICallException\u001b[0m                          Traceback (most recent call last)",
      "Cell \u001b[0;32mIn[2], line 17\u001b[0m\n\u001b[1;32m      7\u001b[0m start_values \u001b[39m=\u001b[39m {\n\u001b[1;32m      8\u001b[0m     \u001b[39m# variable                          start   unit      description\u001b[39;00m\n\u001b[1;32m      9\u001b[0m     \u001b[39m'\u001b[39m\u001b[39mminsamplestep\u001b[39m\u001b[39m'\u001b[39m: (\u001b[39m2.50000000000000000e-02\u001b[39m, \u001b[39m'\u001b[39m\u001b[39ms\u001b[39m\u001b[39m'\u001b[39m),    \u001b[39m# Minimum time step between samples in binary data file\u001b[39;00m\n\u001b[1;32m     10\u001b[0m     \u001b[39m'\u001b[39m\u001b[39mbinfilename\u001b[39m\u001b[39m'\u001b[39m:                 \u001b[39m'\u001b[39m\u001b[39mDISABLED\u001b[39m\u001b[39m'\u001b[39m,          \u001b[39m# Name of binary data file\u001b[39;00m\n\u001b[1;32m     11\u001b[0m }\n\u001b[1;32m     13\u001b[0m output \u001b[39m=\u001b[39m [\n\u001b[1;32m     14\u001b[0m     \u001b[39m'\u001b[39m\u001b[39moutputs\u001b[39m\u001b[39m'\u001b[39m,  \u001b[39m# Rectifier1.Capacitor1.v\u001b[39;00m\n\u001b[1;32m     15\u001b[0m ]\n\u001b[0;32m---> 17\u001b[0m result \u001b[39m=\u001b[39m simulate_fmu(filename, start_values\u001b[39m=\u001b[39;49mstart_values, output\u001b[39m=\u001b[39;49moutput, stop_time\u001b[39m=\u001b[39;49m\u001b[39m0.1\u001b[39;49m)\n\u001b[1;32m     19\u001b[0m plot_result(result)\n",
      "File \u001b[0;32m~/workspace/personal/fmi-rust/.venv/lib/python3.11/site-packages/fmpy/simulation.py:758\u001b[0m, in \u001b[0;36msimulate_fmu\u001b[0;34m(filename, validate, start_time, stop_time, solver, step_size, relative_tolerance, output_interval, record_events, fmi_type, start_values, apply_default_start_values, input, output, timeout, debug_logging, visible, logger, fmi_call_logger, step_finished, model_description, fmu_instance, set_input_derivatives, remote_platform, early_return_allowed, use_event_mode, initialize, terminate, fmu_state)\u001b[0m\n\u001b[1;32m    756\u001b[0m     result \u001b[39m=\u001b[39m simulateME(model_description, fmu, start_time, stop_time, solver, step_size, relative_tolerance, start_values, apply_default_start_values, \u001b[39minput\u001b[39m, output, output_interval, record_events, timeout, step_finished, validate)\n\u001b[1;32m    757\u001b[0m \u001b[39melif\u001b[39;00m fmi_type \u001b[39m==\u001b[39m \u001b[39m'\u001b[39m\u001b[39mCoSimulation\u001b[39m\u001b[39m'\u001b[39m:\n\u001b[0;32m--> 758\u001b[0m     result \u001b[39m=\u001b[39m simulateCS(model_description, fmu, start_time, stop_time, relative_tolerance, start_values, apply_default_start_values, \u001b[39minput\u001b[39;49m, output, output_interval, timeout, step_finished, set_input_derivatives, use_event_mode, early_return_allowed, validate, initialize, terminate)\n\u001b[1;32m    760\u001b[0m \u001b[39mif\u001b[39;00m fmu_instance \u001b[39mis\u001b[39;00m \u001b[39mNone\u001b[39;00m:\n\u001b[1;32m    761\u001b[0m     fmu\u001b[39m.\u001b[39mfreeInstance()\n",
      "File \u001b[0;32m~/workspace/personal/fmi-rust/.venv/lib/python3.11/site-packages/fmpy/simulation.py:1195\u001b[0m, in \u001b[0;36msimulateCS\u001b[0;34m(model_description, fmu, start_time, stop_time, relative_tolerance, start_values, apply_default_start_values, input_signals, output, output_interval, timeout, step_finished, set_input_derivatives, use_event_mode, early_return_allowed, validate, initialize, terminate)\u001b[0m\n\u001b[1;32m   1193\u001b[0m     fmu\u001b[39m.\u001b[39minitialize(tStart\u001b[39m=\u001b[39mtime, stopTime\u001b[39m=\u001b[39mstop_time)\n\u001b[1;32m   1194\u001b[0m \u001b[39melif\u001b[39;00m is_fmi2:\n\u001b[0;32m-> 1195\u001b[0m     start_values \u001b[39m=\u001b[39m apply_start_values(fmu, model_description, start_values, settable\u001b[39m=\u001b[39;49msettable_in_instantiated)\n\u001b[1;32m   1196\u001b[0m     fmu\u001b[39m.\u001b[39menterInitializationMode()\n\u001b[1;32m   1197\u001b[0m     start_values \u001b[39m=\u001b[39m apply_start_values(fmu, model_description, start_values, settable\u001b[39m=\u001b[39msettable_in_initialization_mode)\n",
      "File \u001b[0;32m~/workspace/personal/fmi-rust/.venv/lib/python3.11/site-packages/fmpy/simulation.py:527\u001b[0m, in \u001b[0;36mapply_start_values\u001b[0;34m(fmu, model_description, start_values, settable)\u001b[0m\n\u001b[1;32m    524\u001b[0m     \u001b[39melse\u001b[39;00m:\n\u001b[1;32m    525\u001b[0m         value \u001b[39m=\u001b[39m [variable\u001b[39m.\u001b[39m_python_type(value)]\n\u001b[0;32m--> 527\u001b[0m     setter([vr], value)\n\u001b[1;32m    529\u001b[0m \u001b[39mreturn\u001b[39;00m start_values\n",
      "File \u001b[0;32m~/workspace/personal/fmi-rust/.venv/lib/python3.11/site-packages/fmpy/fmi2.py:317\u001b[0m, in \u001b[0;36m_FMU2.setReal\u001b[0;34m(self, vr, value)\u001b[0m\n\u001b[1;32m    315\u001b[0m vr \u001b[39m=\u001b[39m (fmi2ValueReference \u001b[39m*\u001b[39m \u001b[39mlen\u001b[39m(vr))(\u001b[39m*\u001b[39mvr)\n\u001b[1;32m    316\u001b[0m value \u001b[39m=\u001b[39m (fmi2Real \u001b[39m*\u001b[39m \u001b[39mlen\u001b[39m(vr))(\u001b[39m*\u001b[39mvalue)\n\u001b[0;32m--> 317\u001b[0m \u001b[39mself\u001b[39;49m\u001b[39m.\u001b[39;49mfmi2SetReal(\u001b[39mself\u001b[39;49m\u001b[39m.\u001b[39;49mcomponent, vr, \u001b[39mlen\u001b[39;49m(vr), value)\n",
      "File \u001b[0;32m~/workspace/personal/fmi-rust/.venv/lib/python3.11/site-packages/fmpy/fmi2.py:215\u001b[0m, in \u001b[0;36m_FMU2._fmi2Function.<locals>.w\u001b[0;34m(*args)\u001b[0m\n\u001b[1;32m    212\u001b[0m \u001b[39mif\u001b[39;00m restype \u001b[39m==\u001b[39m fmi2Status:  \u001b[39m# status code\u001b[39;00m\n\u001b[1;32m    213\u001b[0m     \u001b[39m# check the status code\u001b[39;00m\n\u001b[1;32m    214\u001b[0m     \u001b[39mif\u001b[39;00m res \u001b[39m>\u001b[39m fmi2Warning:\n\u001b[0;32m--> 215\u001b[0m         \u001b[39mraise\u001b[39;00m FMICallException(function\u001b[39m=\u001b[39mfname, status\u001b[39m=\u001b[39mres)\n\u001b[1;32m    217\u001b[0m \u001b[39mreturn\u001b[39;00m res\n",
      "\u001b[0;31mFMICallException\u001b[0m: fmi2SetReal failed with status 3 (error)."
     ]
    }
   ],
   "source": [
    "import fmpy\n",
    "from fmpy import *\n",
    "\n",
    "\n",
    "filename = 'test.fmu'\n",
    "\n",
    "start_values = {\n",
    "    # variable                          start   unit      description\n",
    "    'minsamplestep': (2.50000000000000000e-02, 's'),    # Minimum time step between samples in binary data file\n",
    "    'binfilename':                 'DISABLED',          # Name of binary data file\n",
    "}\n",
    "\n",
    "output = [\n",
    "    'outputs',  # Rectifier1.Capacitor1.v\n",
    "]\n",
    "\n",
    "result = simulate_fmu(filename, start_values=start_values, output=output, stop_time=0.1)\n",
    "\n",
    "plot_result(result)"
   ]
  }
 ],
 "metadata": {
  "kernelspec": {
   "display_name": ".venv",
   "language": "python",
   "name": "python3"
  },
  "language_info": {
   "codemirror_mode": {
    "name": "ipython",
    "version": 3
   },
   "file_extension": ".py",
   "mimetype": "text/x-python",
   "name": "python",
   "nbconvert_exporter": "python",
   "pygments_lexer": "ipython3",
   "version": "3.11.3"
  }
 },
 "nbformat": 4,
 "nbformat_minor": 5
}
