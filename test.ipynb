{
 "cells": [
  {
   "cell_type": "markdown",
   "id": "5845f929",
   "metadata": {},
   "source": [
    "Model Rectifier"
   ]
  },
  {
   "cell_type": "code",
   "execution_count": null,
   "id": "20e04fa5",
   "metadata": {},
   "outputs": [],
   "source": [
    "import fmpy\n",
    "from fmpy import *\n",
    "\n",
    "\n",
    "filename = 'test.fmu'\n",
    "\n",
    "start_values = {\n",
    "    # variable                          start   unit      description\n",
    "    'minsamplestep': (2.50000000000000000e-02, 's'),    # Minimum time step between samples in binary data file\n",
    "    'binfilename':                 'DISABLED',          # Name of binary data file\n",
    "}\n",
    "\n",
    "output = [\n",
    "    'outputs',  # Rectifier1.Capacitor1.v\n",
    "]\n",
    "\n",
    "result = simulate_fmu(filename, start_values=start_values, output=output, stop_time=0.1)\n",
    "\n",
    "plot_result(result)"
   ]
  }
 ],
 "metadata": {},
 "nbformat": 4,
 "nbformat_minor": 5
}
